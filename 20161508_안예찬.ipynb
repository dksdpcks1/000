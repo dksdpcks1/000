{
  "nbformat": 4,
  "nbformat_minor": 0,
  "metadata": {
    "colab": {
      "name": "20161508_안예찬.ipynb",
      "provenance": [],
      "collapsed_sections": [],
      "toc_visible": true,
      "include_colab_link": true
    },
    "kernelspec": {
      "name": "python3",
      "display_name": "Python 3"
    }
  },
  "cells": [
    {
      "cell_type": "markdown",
      "metadata": {
        "id": "view-in-github",
        "colab_type": "text"
      },
      "source": [
        "<a href=\"https://colab.research.google.com/github/dksdpcks1/000/blob/master/20161508_%EC%95%88%EC%98%88%EC%B0%AC.ipynb\" target=\"_parent\"><img src=\"https://colab.research.google.com/assets/colab-badge.svg\" alt=\"Open In Colab\"/></a>"
      ]
    },
    {
      "cell_type": "markdown",
      "metadata": {
        "id": "C7uHAwO4PWV2"
      },
      "source": [
        "# **모듈 불러오기**"
      ]
    },
    {
      "cell_type": "code",
      "metadata": {
        "colab": {
          "base_uri": "https://localhost:8080/",
          "height": 34
        },
        "id": "MAKvyzIONJ9P",
        "outputId": "91a92092-5e1f-4849-d778-66b462463d0c"
      },
      "source": [
        "import numpy as np\r\n",
        "import matplotlib.pyplot as plt\r\n",
        "import tensorflow as tf\r\n",
        "import pandas as pd\r\n",
        "from sklearn.model_selection import train_test_split\r\n",
        "from sklearn.neighbors import KNeighborsClassifier\r\n",
        "tf.__version__"
      ],
      "execution_count": 5,
      "outputs": [
        {
          "output_type": "execute_result",
          "data": {
            "application/vnd.google.colaboratory.intrinsic+json": {
              "type": "string"
            },
            "text/plain": [
              "'2.4.0'"
            ]
          },
          "metadata": {
            "tags": []
          },
          "execution_count": 5
        }
      ]
    },
    {
      "cell_type": "code",
      "metadata": {
        "colab": {
          "base_uri": "https://localhost:8080/"
        },
        "id": "8aDTD-ChEgyi",
        "outputId": "173e97b4-f021-40f6-9858-f92bb1c5110b"
      },
      "source": [
        "from google.colab import drive\n",
        "drive.mount('/content/drive')"
      ],
      "execution_count": 6,
      "outputs": [
        {
          "output_type": "stream",
          "text": [
            "Mounted at /content/drive\n"
          ],
          "name": "stdout"
        }
      ]
    },
    {
      "cell_type": "markdown",
      "metadata": {
        "id": "elnBWB1KPZWe"
      },
      "source": [
        "# **엑셀 불러오기**"
      ]
    },
    {
      "cell_type": "code",
      "metadata": {
        "id": "Nenv5zGz0fKP"
      },
      "source": [
        "filename = '/content/drive/MyDrive/duih_dfa.xlsx'"
      ],
      "execution_count": 58,
      "outputs": []
    },
    {
      "cell_type": "code",
      "metadata": {
        "id": "wpbnXuwjOD1P",
        "colab": {
          "base_uri": "https://localhost:8080/",
          "height": 197
        },
        "outputId": "2d6318cc-ce86-4b47-cb8e-33c91ab3736d"
      },
      "source": [
        "brain = pd.read_excel(filename)\r\n",
        "brain.head()"
      ],
      "execution_count": 60,
      "outputs": [
        {
          "output_type": "execute_result",
          "data": {
            "text/html": [
              "<div>\n",
              "<style scoped>\n",
              "    .dataframe tbody tr th:only-of-type {\n",
              "        vertical-align: middle;\n",
              "    }\n",
              "\n",
              "    .dataframe tbody tr th {\n",
              "        vertical-align: top;\n",
              "    }\n",
              "\n",
              "    .dataframe thead th {\n",
              "        text-align: right;\n",
              "    }\n",
              "</style>\n",
              "<table border=\"1\" class=\"dataframe\">\n",
              "  <thead>\n",
              "    <tr style=\"text-align: right;\">\n",
              "      <th></th>\n",
              "      <th>Group</th>\n",
              "      <th>Fp1</th>\n",
              "      <th>F7</th>\n",
              "      <th>T3</th>\n",
              "      <th>T5</th>\n",
              "      <th>F3</th>\n",
              "      <th>C3</th>\n",
              "      <th>P3</th>\n",
              "      <th>O1</th>\n",
              "      <th>Fz</th>\n",
              "      <th>Pz</th>\n",
              "      <th>Fp2</th>\n",
              "      <th>F8</th>\n",
              "      <th>T4</th>\n",
              "      <th>T6</th>\n",
              "      <th>F4</th>\n",
              "      <th>C4</th>\n",
              "      <th>P4</th>\n",
              "      <th>O2</th>\n",
              "    </tr>\n",
              "  </thead>\n",
              "  <tbody>\n",
              "    <tr>\n",
              "      <th>0</th>\n",
              "      <td>NonCZP</td>\n",
              "      <td>0.453575</td>\n",
              "      <td>0.564042</td>\n",
              "      <td>0.556784</td>\n",
              "      <td>0.637439</td>\n",
              "      <td>0.209537</td>\n",
              "      <td>0.800940</td>\n",
              "      <td>0.761023</td>\n",
              "      <td>0.747436</td>\n",
              "      <td>0.305095</td>\n",
              "      <td>0.564888</td>\n",
              "      <td>0.745528</td>\n",
              "      <td>0.659783</td>\n",
              "      <td>0.387473</td>\n",
              "      <td>0.335281</td>\n",
              "      <td>0.530255</td>\n",
              "      <td>0.750381</td>\n",
              "      <td>0.513921</td>\n",
              "      <td>0.388215</td>\n",
              "    </tr>\n",
              "    <tr>\n",
              "      <th>1</th>\n",
              "      <td>NonCZP</td>\n",
              "      <td>0.468788</td>\n",
              "      <td>0.464526</td>\n",
              "      <td>0.556084</td>\n",
              "      <td>0.362510</td>\n",
              "      <td>0.500104</td>\n",
              "      <td>0.614666</td>\n",
              "      <td>0.321130</td>\n",
              "      <td>1.069956</td>\n",
              "      <td>0.454957</td>\n",
              "      <td>0.712725</td>\n",
              "      <td>0.355890</td>\n",
              "      <td>0.498773</td>\n",
              "      <td>0.142149</td>\n",
              "      <td>0.323086</td>\n",
              "      <td>0.364096</td>\n",
              "      <td>1.365283</td>\n",
              "      <td>0.246469</td>\n",
              "      <td>0.480016</td>\n",
              "    </tr>\n",
              "    <tr>\n",
              "      <th>2</th>\n",
              "      <td>NonCZP</td>\n",
              "      <td>0.761824</td>\n",
              "      <td>0.713902</td>\n",
              "      <td>0.551635</td>\n",
              "      <td>0.799061</td>\n",
              "      <td>0.718088</td>\n",
              "      <td>0.556565</td>\n",
              "      <td>1.247161</td>\n",
              "      <td>0.724326</td>\n",
              "      <td>0.917388</td>\n",
              "      <td>0.352680</td>\n",
              "      <td>0.891987</td>\n",
              "      <td>0.426286</td>\n",
              "      <td>0.314502</td>\n",
              "      <td>0.636114</td>\n",
              "      <td>1.107768</td>\n",
              "      <td>1.070519</td>\n",
              "      <td>0.763317</td>\n",
              "      <td>0.728678</td>\n",
              "    </tr>\n",
              "    <tr>\n",
              "      <th>3</th>\n",
              "      <td>NonCZP</td>\n",
              "      <td>0.320513</td>\n",
              "      <td>1.041483</td>\n",
              "      <td>0.562281</td>\n",
              "      <td>0.460085</td>\n",
              "      <td>0.463860</td>\n",
              "      <td>0.081854</td>\n",
              "      <td>0.838522</td>\n",
              "      <td>0.223370</td>\n",
              "      <td>0.686811</td>\n",
              "      <td>0.581258</td>\n",
              "      <td>0.481063</td>\n",
              "      <td>0.330527</td>\n",
              "      <td>0.372371</td>\n",
              "      <td>0.310489</td>\n",
              "      <td>0.461525</td>\n",
              "      <td>0.869266</td>\n",
              "      <td>0.306688</td>\n",
              "      <td>0.469720</td>\n",
              "    </tr>\n",
              "    <tr>\n",
              "      <th>4</th>\n",
              "      <td>NonCZP</td>\n",
              "      <td>0.550035</td>\n",
              "      <td>0.642381</td>\n",
              "      <td>1.062290</td>\n",
              "      <td>0.865921</td>\n",
              "      <td>0.905292</td>\n",
              "      <td>0.820959</td>\n",
              "      <td>0.585278</td>\n",
              "      <td>0.339363</td>\n",
              "      <td>0.760805</td>\n",
              "      <td>1.089401</td>\n",
              "      <td>0.509570</td>\n",
              "      <td>0.655549</td>\n",
              "      <td>0.901712</td>\n",
              "      <td>0.765397</td>\n",
              "      <td>0.875171</td>\n",
              "      <td>0.830093</td>\n",
              "      <td>0.627568</td>\n",
              "      <td>0.961302</td>\n",
              "    </tr>\n",
              "  </tbody>\n",
              "</table>\n",
              "</div>"
            ],
            "text/plain": [
              "    Group       Fp1        F7        T3  ...        F4        C4        P4        O2\n",
              "0  NonCZP  0.453575  0.564042  0.556784  ...  0.530255  0.750381  0.513921  0.388215\n",
              "1  NonCZP  0.468788  0.464526  0.556084  ...  0.364096  1.365283  0.246469  0.480016\n",
              "2  NonCZP  0.761824  0.713902  0.551635  ...  1.107768  1.070519  0.763317  0.728678\n",
              "3  NonCZP  0.320513  1.041483  0.562281  ...  0.461525  0.869266  0.306688  0.469720\n",
              "4  NonCZP  0.550035  0.642381  1.062290  ...  0.875171  0.830093  0.627568  0.961302\n",
              "\n",
              "[5 rows x 19 columns]"
            ]
          },
          "metadata": {
            "tags": []
          },
          "execution_count": 60
        }
      ]
    },
    {
      "cell_type": "code",
      "metadata": {
        "colab": {
          "base_uri": "https://localhost:8080/"
        },
        "id": "ChTIfGn9PRnt",
        "outputId": "c9df5e56-5628-4e64-f0ed-50d6204e7dfa"
      },
      "source": [
        "print(brain)"
      ],
      "execution_count": 61,
      "outputs": [
        {
          "output_type": "stream",
          "text": [
            "        Group       Fp1        F7  ...        C4        P4        O2\n",
            "0      NonCZP  0.453575  0.564042  ...  0.750381  0.513921  0.388215\n",
            "1      NonCZP  0.468788  0.464526  ...  1.365283  0.246469  0.480016\n",
            "2      NonCZP  0.761824  0.713902  ...  1.070519  0.763317  0.728678\n",
            "3      NonCZP  0.320513  1.041483  ...  0.869266  0.306688  0.469720\n",
            "4      NonCZP  0.550035  0.642381  ...  0.830093  0.627568  0.961302\n",
            "...       ...       ...       ...  ...       ...       ...       ...\n",
            "31075     CZP  0.852304  0.765143  ...  0.199074  0.866088  0.537417\n",
            "31076     CZP  0.788118  0.677485  ...  1.003391  0.642248  0.504024\n",
            "31077     CZP  0.890973  0.538311  ...  0.865412  0.660497  0.955419\n",
            "31078     CZP  1.279263  1.172636  ...  1.302551  1.473136  1.106737\n",
            "31079     CZP  0.474424  0.668689  ...  0.504502  1.129228  0.543831\n",
            "\n",
            "[31080 rows x 19 columns]\n"
          ],
          "name": "stdout"
        }
      ]
    },
    {
      "cell_type": "markdown",
      "metadata": {
        "id": "zw2po6ZPP_p-"
      },
      "source": [
        "# **손실값 파악**"
      ]
    },
    {
      "cell_type": "code",
      "metadata": {
        "colab": {
          "base_uri": "https://localhost:8080/"
        },
        "id": "gZ09AZtFPywm",
        "outputId": "c08db361-4e4a-484a-fed5-7b74ee08e8bf"
      },
      "source": [
        "brain.isnull().sum()"
      ],
      "execution_count": 62,
      "outputs": [
        {
          "output_type": "execute_result",
          "data": {
            "text/plain": [
              "Group     0\n",
              "Fp1       7\n",
              "F7       33\n",
              "T3       55\n",
              "T5       55\n",
              "F3       32\n",
              "C3       26\n",
              "P3       32\n",
              "O1       37\n",
              "Fz       20\n",
              "Pz       27\n",
              "Fp2      28\n",
              "F8       43\n",
              "T4       13\n",
              "T6       25\n",
              "F4       37\n",
              "C4       41\n",
              "P4       21\n",
              "O2       38\n",
              "dtype: int64"
            ]
          },
          "metadata": {
            "tags": []
          },
          "execution_count": 62
        }
      ]
    },
    {
      "cell_type": "markdown",
      "metadata": {
        "id": "p2sZmNuLVWyl"
      },
      "source": [
        "# **결측값을 평균값으로 대체**"
      ]
    },
    {
      "cell_type": "code",
      "metadata": {
        "colab": {
          "base_uri": "https://localhost:8080/",
          "height": 406
        },
        "id": "dWpvTJANVJBw",
        "outputId": "2a0acdd8-096a-4562-a250-d21dcf1f34ce"
      },
      "source": [
        "brainre=brain.fillna(0.717008)\r\n",
        "brainre"
      ],
      "execution_count": 63,
      "outputs": [
        {
          "output_type": "execute_result",
          "data": {
            "text/html": [
              "<div>\n",
              "<style scoped>\n",
              "    .dataframe tbody tr th:only-of-type {\n",
              "        vertical-align: middle;\n",
              "    }\n",
              "\n",
              "    .dataframe tbody tr th {\n",
              "        vertical-align: top;\n",
              "    }\n",
              "\n",
              "    .dataframe thead th {\n",
              "        text-align: right;\n",
              "    }\n",
              "</style>\n",
              "<table border=\"1\" class=\"dataframe\">\n",
              "  <thead>\n",
              "    <tr style=\"text-align: right;\">\n",
              "      <th></th>\n",
              "      <th>Group</th>\n",
              "      <th>Fp1</th>\n",
              "      <th>F7</th>\n",
              "      <th>T3</th>\n",
              "      <th>T5</th>\n",
              "      <th>F3</th>\n",
              "      <th>C3</th>\n",
              "      <th>P3</th>\n",
              "      <th>O1</th>\n",
              "      <th>Fz</th>\n",
              "      <th>Pz</th>\n",
              "      <th>Fp2</th>\n",
              "      <th>F8</th>\n",
              "      <th>T4</th>\n",
              "      <th>T6</th>\n",
              "      <th>F4</th>\n",
              "      <th>C4</th>\n",
              "      <th>P4</th>\n",
              "      <th>O2</th>\n",
              "    </tr>\n",
              "  </thead>\n",
              "  <tbody>\n",
              "    <tr>\n",
              "      <th>0</th>\n",
              "      <td>NonCZP</td>\n",
              "      <td>0.453575</td>\n",
              "      <td>0.564042</td>\n",
              "      <td>0.556784</td>\n",
              "      <td>0.637439</td>\n",
              "      <td>0.209537</td>\n",
              "      <td>0.800940</td>\n",
              "      <td>0.761023</td>\n",
              "      <td>0.747436</td>\n",
              "      <td>0.305095</td>\n",
              "      <td>0.564888</td>\n",
              "      <td>0.745528</td>\n",
              "      <td>0.659783</td>\n",
              "      <td>0.387473</td>\n",
              "      <td>0.335281</td>\n",
              "      <td>0.530255</td>\n",
              "      <td>0.750381</td>\n",
              "      <td>0.513921</td>\n",
              "      <td>0.388215</td>\n",
              "    </tr>\n",
              "    <tr>\n",
              "      <th>1</th>\n",
              "      <td>NonCZP</td>\n",
              "      <td>0.468788</td>\n",
              "      <td>0.464526</td>\n",
              "      <td>0.556084</td>\n",
              "      <td>0.362510</td>\n",
              "      <td>0.500104</td>\n",
              "      <td>0.614666</td>\n",
              "      <td>0.321130</td>\n",
              "      <td>1.069956</td>\n",
              "      <td>0.454957</td>\n",
              "      <td>0.712725</td>\n",
              "      <td>0.355890</td>\n",
              "      <td>0.498773</td>\n",
              "      <td>0.142149</td>\n",
              "      <td>0.323086</td>\n",
              "      <td>0.364096</td>\n",
              "      <td>1.365283</td>\n",
              "      <td>0.246469</td>\n",
              "      <td>0.480016</td>\n",
              "    </tr>\n",
              "    <tr>\n",
              "      <th>2</th>\n",
              "      <td>NonCZP</td>\n",
              "      <td>0.761824</td>\n",
              "      <td>0.713902</td>\n",
              "      <td>0.551635</td>\n",
              "      <td>0.799061</td>\n",
              "      <td>0.718088</td>\n",
              "      <td>0.556565</td>\n",
              "      <td>1.247161</td>\n",
              "      <td>0.724326</td>\n",
              "      <td>0.917388</td>\n",
              "      <td>0.352680</td>\n",
              "      <td>0.891987</td>\n",
              "      <td>0.426286</td>\n",
              "      <td>0.314502</td>\n",
              "      <td>0.636114</td>\n",
              "      <td>1.107768</td>\n",
              "      <td>1.070519</td>\n",
              "      <td>0.763317</td>\n",
              "      <td>0.728678</td>\n",
              "    </tr>\n",
              "    <tr>\n",
              "      <th>3</th>\n",
              "      <td>NonCZP</td>\n",
              "      <td>0.320513</td>\n",
              "      <td>1.041483</td>\n",
              "      <td>0.562281</td>\n",
              "      <td>0.460085</td>\n",
              "      <td>0.463860</td>\n",
              "      <td>0.081854</td>\n",
              "      <td>0.838522</td>\n",
              "      <td>0.223370</td>\n",
              "      <td>0.686811</td>\n",
              "      <td>0.581258</td>\n",
              "      <td>0.481063</td>\n",
              "      <td>0.330527</td>\n",
              "      <td>0.372371</td>\n",
              "      <td>0.310489</td>\n",
              "      <td>0.461525</td>\n",
              "      <td>0.869266</td>\n",
              "      <td>0.306688</td>\n",
              "      <td>0.469720</td>\n",
              "    </tr>\n",
              "    <tr>\n",
              "      <th>4</th>\n",
              "      <td>NonCZP</td>\n",
              "      <td>0.550035</td>\n",
              "      <td>0.642381</td>\n",
              "      <td>1.062290</td>\n",
              "      <td>0.865921</td>\n",
              "      <td>0.905292</td>\n",
              "      <td>0.820959</td>\n",
              "      <td>0.585278</td>\n",
              "      <td>0.339363</td>\n",
              "      <td>0.760805</td>\n",
              "      <td>1.089401</td>\n",
              "      <td>0.509570</td>\n",
              "      <td>0.655549</td>\n",
              "      <td>0.901712</td>\n",
              "      <td>0.765397</td>\n",
              "      <td>0.875171</td>\n",
              "      <td>0.830093</td>\n",
              "      <td>0.627568</td>\n",
              "      <td>0.961302</td>\n",
              "    </tr>\n",
              "    <tr>\n",
              "      <th>...</th>\n",
              "      <td>...</td>\n",
              "      <td>...</td>\n",
              "      <td>...</td>\n",
              "      <td>...</td>\n",
              "      <td>...</td>\n",
              "      <td>...</td>\n",
              "      <td>...</td>\n",
              "      <td>...</td>\n",
              "      <td>...</td>\n",
              "      <td>...</td>\n",
              "      <td>...</td>\n",
              "      <td>...</td>\n",
              "      <td>...</td>\n",
              "      <td>...</td>\n",
              "      <td>...</td>\n",
              "      <td>...</td>\n",
              "      <td>...</td>\n",
              "      <td>...</td>\n",
              "      <td>...</td>\n",
              "    </tr>\n",
              "    <tr>\n",
              "      <th>31075</th>\n",
              "      <td>CZP</td>\n",
              "      <td>0.852304</td>\n",
              "      <td>0.765143</td>\n",
              "      <td>0.681175</td>\n",
              "      <td>0.384575</td>\n",
              "      <td>0.699496</td>\n",
              "      <td>0.866565</td>\n",
              "      <td>0.544377</td>\n",
              "      <td>0.405061</td>\n",
              "      <td>0.296469</td>\n",
              "      <td>1.106938</td>\n",
              "      <td>0.612169</td>\n",
              "      <td>0.288407</td>\n",
              "      <td>0.585331</td>\n",
              "      <td>0.844580</td>\n",
              "      <td>0.680941</td>\n",
              "      <td>0.199074</td>\n",
              "      <td>0.866088</td>\n",
              "      <td>0.537417</td>\n",
              "    </tr>\n",
              "    <tr>\n",
              "      <th>31076</th>\n",
              "      <td>CZP</td>\n",
              "      <td>0.788118</td>\n",
              "      <td>0.677485</td>\n",
              "      <td>0.627501</td>\n",
              "      <td>0.689511</td>\n",
              "      <td>0.740181</td>\n",
              "      <td>0.655981</td>\n",
              "      <td>0.743361</td>\n",
              "      <td>0.677243</td>\n",
              "      <td>0.661745</td>\n",
              "      <td>0.581599</td>\n",
              "      <td>0.843679</td>\n",
              "      <td>0.649858</td>\n",
              "      <td>0.901267</td>\n",
              "      <td>0.679429</td>\n",
              "      <td>0.806627</td>\n",
              "      <td>1.003391</td>\n",
              "      <td>0.642248</td>\n",
              "      <td>0.504024</td>\n",
              "    </tr>\n",
              "    <tr>\n",
              "      <th>31077</th>\n",
              "      <td>CZP</td>\n",
              "      <td>0.890973</td>\n",
              "      <td>0.538311</td>\n",
              "      <td>0.547298</td>\n",
              "      <td>0.673904</td>\n",
              "      <td>0.874004</td>\n",
              "      <td>0.924029</td>\n",
              "      <td>0.511788</td>\n",
              "      <td>0.882989</td>\n",
              "      <td>0.957397</td>\n",
              "      <td>0.583462</td>\n",
              "      <td>0.843166</td>\n",
              "      <td>0.604823</td>\n",
              "      <td>0.701230</td>\n",
              "      <td>0.720206</td>\n",
              "      <td>0.926973</td>\n",
              "      <td>0.865412</td>\n",
              "      <td>0.660497</td>\n",
              "      <td>0.955419</td>\n",
              "    </tr>\n",
              "    <tr>\n",
              "      <th>31078</th>\n",
              "      <td>CZP</td>\n",
              "      <td>1.279263</td>\n",
              "      <td>1.172636</td>\n",
              "      <td>0.697928</td>\n",
              "      <td>0.286166</td>\n",
              "      <td>1.107689</td>\n",
              "      <td>0.588270</td>\n",
              "      <td>1.001763</td>\n",
              "      <td>0.624696</td>\n",
              "      <td>0.886751</td>\n",
              "      <td>1.440829</td>\n",
              "      <td>0.862042</td>\n",
              "      <td>0.840432</td>\n",
              "      <td>0.975955</td>\n",
              "      <td>0.984204</td>\n",
              "      <td>0.720300</td>\n",
              "      <td>1.302551</td>\n",
              "      <td>1.473136</td>\n",
              "      <td>1.106737</td>\n",
              "    </tr>\n",
              "    <tr>\n",
              "      <th>31079</th>\n",
              "      <td>CZP</td>\n",
              "      <td>0.474424</td>\n",
              "      <td>0.668689</td>\n",
              "      <td>0.917154</td>\n",
              "      <td>0.621782</td>\n",
              "      <td>0.526013</td>\n",
              "      <td>0.790357</td>\n",
              "      <td>0.586555</td>\n",
              "      <td>0.745475</td>\n",
              "      <td>0.359765</td>\n",
              "      <td>0.373755</td>\n",
              "      <td>0.786078</td>\n",
              "      <td>0.565928</td>\n",
              "      <td>1.031918</td>\n",
              "      <td>0.224221</td>\n",
              "      <td>0.855359</td>\n",
              "      <td>0.504502</td>\n",
              "      <td>1.129228</td>\n",
              "      <td>0.543831</td>\n",
              "    </tr>\n",
              "  </tbody>\n",
              "</table>\n",
              "<p>31080 rows × 19 columns</p>\n",
              "</div>"
            ],
            "text/plain": [
              "        Group       Fp1        F7  ...        C4        P4        O2\n",
              "0      NonCZP  0.453575  0.564042  ...  0.750381  0.513921  0.388215\n",
              "1      NonCZP  0.468788  0.464526  ...  1.365283  0.246469  0.480016\n",
              "2      NonCZP  0.761824  0.713902  ...  1.070519  0.763317  0.728678\n",
              "3      NonCZP  0.320513  1.041483  ...  0.869266  0.306688  0.469720\n",
              "4      NonCZP  0.550035  0.642381  ...  0.830093  0.627568  0.961302\n",
              "...       ...       ...       ...  ...       ...       ...       ...\n",
              "31075     CZP  0.852304  0.765143  ...  0.199074  0.866088  0.537417\n",
              "31076     CZP  0.788118  0.677485  ...  1.003391  0.642248  0.504024\n",
              "31077     CZP  0.890973  0.538311  ...  0.865412  0.660497  0.955419\n",
              "31078     CZP  1.279263  1.172636  ...  1.302551  1.473136  1.106737\n",
              "31079     CZP  0.474424  0.668689  ...  0.504502  1.129228  0.543831\n",
              "\n",
              "[31080 rows x 19 columns]"
            ]
          },
          "metadata": {
            "tags": []
          },
          "execution_count": 63
        }
      ]
    },
    {
      "cell_type": "markdown",
      "metadata": {
        "id": "UPxCWRgWVo7G"
      },
      "source": [
        "# **결측값을 제거한 것과 안한것 시각적 비교**"
      ]
    },
    {
      "cell_type": "code",
      "metadata": {
        "colab": {
          "base_uri": "https://localhost:8080/"
        },
        "id": "zkB368l6VZIt",
        "outputId": "7c195ae7-75ef-4497-e9b3-f5c22d0b78aa"
      },
      "source": [
        "#원래의 값\r\n",
        "brain.isnull().sum()\r\n"
      ],
      "execution_count": 64,
      "outputs": [
        {
          "output_type": "execute_result",
          "data": {
            "text/plain": [
              "Group     0\n",
              "Fp1       7\n",
              "F7       33\n",
              "T3       55\n",
              "T5       55\n",
              "F3       32\n",
              "C3       26\n",
              "P3       32\n",
              "O1       37\n",
              "Fz       20\n",
              "Pz       27\n",
              "Fp2      28\n",
              "F8       43\n",
              "T4       13\n",
              "T6       25\n",
              "F4       37\n",
              "C4       41\n",
              "P4       21\n",
              "O2       38\n",
              "dtype: int64"
            ]
          },
          "metadata": {
            "tags": []
          },
          "execution_count": 64
        }
      ]
    },
    {
      "cell_type": "code",
      "metadata": {
        "colab": {
          "base_uri": "https://localhost:8080/"
        },
        "id": "_fGijRUXVjgO",
        "outputId": "f23c6f76-8053-4069-9393-67691b73e17e"
      },
      "source": [
        "#손실값을 평균값으로 대체\r\n",
        "brainre.isnull().sum()"
      ],
      "execution_count": 65,
      "outputs": [
        {
          "output_type": "execute_result",
          "data": {
            "text/plain": [
              "Group    0\n",
              "Fp1      0\n",
              "F7       0\n",
              "T3       0\n",
              "T5       0\n",
              "F3       0\n",
              "C3       0\n",
              "P3       0\n",
              "O1       0\n",
              "Fz       0\n",
              "Pz       0\n",
              "Fp2      0\n",
              "F8       0\n",
              "T4       0\n",
              "T6       0\n",
              "F4       0\n",
              "C4       0\n",
              "P4       0\n",
              "O2       0\n",
              "dtype: int64"
            ]
          },
          "metadata": {
            "tags": []
          },
          "execution_count": 65
        }
      ]
    },
    {
      "cell_type": "markdown",
      "metadata": {
        "id": "S_tGrJtwRGqP"
      },
      "source": [
        "# **데이터 준비**"
      ]
    },
    {
      "cell_type": "code",
      "metadata": {
        "colab": {
          "base_uri": "https://localhost:8080/",
          "height": 406
        },
        "id": "9QaAT0_-lB7O",
        "outputId": "db9b41d2-7816-4bf2-ef80-88f0feeffd36"
      },
      "source": [
        "data = brainre.iloc[0:,1:]\r\n",
        "data\r\n"
      ],
      "execution_count": 66,
      "outputs": [
        {
          "output_type": "execute_result",
          "data": {
            "text/html": [
              "<div>\n",
              "<style scoped>\n",
              "    .dataframe tbody tr th:only-of-type {\n",
              "        vertical-align: middle;\n",
              "    }\n",
              "\n",
              "    .dataframe tbody tr th {\n",
              "        vertical-align: top;\n",
              "    }\n",
              "\n",
              "    .dataframe thead th {\n",
              "        text-align: right;\n",
              "    }\n",
              "</style>\n",
              "<table border=\"1\" class=\"dataframe\">\n",
              "  <thead>\n",
              "    <tr style=\"text-align: right;\">\n",
              "      <th></th>\n",
              "      <th>Fp1</th>\n",
              "      <th>F7</th>\n",
              "      <th>T3</th>\n",
              "      <th>T5</th>\n",
              "      <th>F3</th>\n",
              "      <th>C3</th>\n",
              "      <th>P3</th>\n",
              "      <th>O1</th>\n",
              "      <th>Fz</th>\n",
              "      <th>Pz</th>\n",
              "      <th>Fp2</th>\n",
              "      <th>F8</th>\n",
              "      <th>T4</th>\n",
              "      <th>T6</th>\n",
              "      <th>F4</th>\n",
              "      <th>C4</th>\n",
              "      <th>P4</th>\n",
              "      <th>O2</th>\n",
              "    </tr>\n",
              "  </thead>\n",
              "  <tbody>\n",
              "    <tr>\n",
              "      <th>0</th>\n",
              "      <td>0.453575</td>\n",
              "      <td>0.564042</td>\n",
              "      <td>0.556784</td>\n",
              "      <td>0.637439</td>\n",
              "      <td>0.209537</td>\n",
              "      <td>0.800940</td>\n",
              "      <td>0.761023</td>\n",
              "      <td>0.747436</td>\n",
              "      <td>0.305095</td>\n",
              "      <td>0.564888</td>\n",
              "      <td>0.745528</td>\n",
              "      <td>0.659783</td>\n",
              "      <td>0.387473</td>\n",
              "      <td>0.335281</td>\n",
              "      <td>0.530255</td>\n",
              "      <td>0.750381</td>\n",
              "      <td>0.513921</td>\n",
              "      <td>0.388215</td>\n",
              "    </tr>\n",
              "    <tr>\n",
              "      <th>1</th>\n",
              "      <td>0.468788</td>\n",
              "      <td>0.464526</td>\n",
              "      <td>0.556084</td>\n",
              "      <td>0.362510</td>\n",
              "      <td>0.500104</td>\n",
              "      <td>0.614666</td>\n",
              "      <td>0.321130</td>\n",
              "      <td>1.069956</td>\n",
              "      <td>0.454957</td>\n",
              "      <td>0.712725</td>\n",
              "      <td>0.355890</td>\n",
              "      <td>0.498773</td>\n",
              "      <td>0.142149</td>\n",
              "      <td>0.323086</td>\n",
              "      <td>0.364096</td>\n",
              "      <td>1.365283</td>\n",
              "      <td>0.246469</td>\n",
              "      <td>0.480016</td>\n",
              "    </tr>\n",
              "    <tr>\n",
              "      <th>2</th>\n",
              "      <td>0.761824</td>\n",
              "      <td>0.713902</td>\n",
              "      <td>0.551635</td>\n",
              "      <td>0.799061</td>\n",
              "      <td>0.718088</td>\n",
              "      <td>0.556565</td>\n",
              "      <td>1.247161</td>\n",
              "      <td>0.724326</td>\n",
              "      <td>0.917388</td>\n",
              "      <td>0.352680</td>\n",
              "      <td>0.891987</td>\n",
              "      <td>0.426286</td>\n",
              "      <td>0.314502</td>\n",
              "      <td>0.636114</td>\n",
              "      <td>1.107768</td>\n",
              "      <td>1.070519</td>\n",
              "      <td>0.763317</td>\n",
              "      <td>0.728678</td>\n",
              "    </tr>\n",
              "    <tr>\n",
              "      <th>3</th>\n",
              "      <td>0.320513</td>\n",
              "      <td>1.041483</td>\n",
              "      <td>0.562281</td>\n",
              "      <td>0.460085</td>\n",
              "      <td>0.463860</td>\n",
              "      <td>0.081854</td>\n",
              "      <td>0.838522</td>\n",
              "      <td>0.223370</td>\n",
              "      <td>0.686811</td>\n",
              "      <td>0.581258</td>\n",
              "      <td>0.481063</td>\n",
              "      <td>0.330527</td>\n",
              "      <td>0.372371</td>\n",
              "      <td>0.310489</td>\n",
              "      <td>0.461525</td>\n",
              "      <td>0.869266</td>\n",
              "      <td>0.306688</td>\n",
              "      <td>0.469720</td>\n",
              "    </tr>\n",
              "    <tr>\n",
              "      <th>4</th>\n",
              "      <td>0.550035</td>\n",
              "      <td>0.642381</td>\n",
              "      <td>1.062290</td>\n",
              "      <td>0.865921</td>\n",
              "      <td>0.905292</td>\n",
              "      <td>0.820959</td>\n",
              "      <td>0.585278</td>\n",
              "      <td>0.339363</td>\n",
              "      <td>0.760805</td>\n",
              "      <td>1.089401</td>\n",
              "      <td>0.509570</td>\n",
              "      <td>0.655549</td>\n",
              "      <td>0.901712</td>\n",
              "      <td>0.765397</td>\n",
              "      <td>0.875171</td>\n",
              "      <td>0.830093</td>\n",
              "      <td>0.627568</td>\n",
              "      <td>0.961302</td>\n",
              "    </tr>\n",
              "    <tr>\n",
              "      <th>...</th>\n",
              "      <td>...</td>\n",
              "      <td>...</td>\n",
              "      <td>...</td>\n",
              "      <td>...</td>\n",
              "      <td>...</td>\n",
              "      <td>...</td>\n",
              "      <td>...</td>\n",
              "      <td>...</td>\n",
              "      <td>...</td>\n",
              "      <td>...</td>\n",
              "      <td>...</td>\n",
              "      <td>...</td>\n",
              "      <td>...</td>\n",
              "      <td>...</td>\n",
              "      <td>...</td>\n",
              "      <td>...</td>\n",
              "      <td>...</td>\n",
              "      <td>...</td>\n",
              "    </tr>\n",
              "    <tr>\n",
              "      <th>31075</th>\n",
              "      <td>0.852304</td>\n",
              "      <td>0.765143</td>\n",
              "      <td>0.681175</td>\n",
              "      <td>0.384575</td>\n",
              "      <td>0.699496</td>\n",
              "      <td>0.866565</td>\n",
              "      <td>0.544377</td>\n",
              "      <td>0.405061</td>\n",
              "      <td>0.296469</td>\n",
              "      <td>1.106938</td>\n",
              "      <td>0.612169</td>\n",
              "      <td>0.288407</td>\n",
              "      <td>0.585331</td>\n",
              "      <td>0.844580</td>\n",
              "      <td>0.680941</td>\n",
              "      <td>0.199074</td>\n",
              "      <td>0.866088</td>\n",
              "      <td>0.537417</td>\n",
              "    </tr>\n",
              "    <tr>\n",
              "      <th>31076</th>\n",
              "      <td>0.788118</td>\n",
              "      <td>0.677485</td>\n",
              "      <td>0.627501</td>\n",
              "      <td>0.689511</td>\n",
              "      <td>0.740181</td>\n",
              "      <td>0.655981</td>\n",
              "      <td>0.743361</td>\n",
              "      <td>0.677243</td>\n",
              "      <td>0.661745</td>\n",
              "      <td>0.581599</td>\n",
              "      <td>0.843679</td>\n",
              "      <td>0.649858</td>\n",
              "      <td>0.901267</td>\n",
              "      <td>0.679429</td>\n",
              "      <td>0.806627</td>\n",
              "      <td>1.003391</td>\n",
              "      <td>0.642248</td>\n",
              "      <td>0.504024</td>\n",
              "    </tr>\n",
              "    <tr>\n",
              "      <th>31077</th>\n",
              "      <td>0.890973</td>\n",
              "      <td>0.538311</td>\n",
              "      <td>0.547298</td>\n",
              "      <td>0.673904</td>\n",
              "      <td>0.874004</td>\n",
              "      <td>0.924029</td>\n",
              "      <td>0.511788</td>\n",
              "      <td>0.882989</td>\n",
              "      <td>0.957397</td>\n",
              "      <td>0.583462</td>\n",
              "      <td>0.843166</td>\n",
              "      <td>0.604823</td>\n",
              "      <td>0.701230</td>\n",
              "      <td>0.720206</td>\n",
              "      <td>0.926973</td>\n",
              "      <td>0.865412</td>\n",
              "      <td>0.660497</td>\n",
              "      <td>0.955419</td>\n",
              "    </tr>\n",
              "    <tr>\n",
              "      <th>31078</th>\n",
              "      <td>1.279263</td>\n",
              "      <td>1.172636</td>\n",
              "      <td>0.697928</td>\n",
              "      <td>0.286166</td>\n",
              "      <td>1.107689</td>\n",
              "      <td>0.588270</td>\n",
              "      <td>1.001763</td>\n",
              "      <td>0.624696</td>\n",
              "      <td>0.886751</td>\n",
              "      <td>1.440829</td>\n",
              "      <td>0.862042</td>\n",
              "      <td>0.840432</td>\n",
              "      <td>0.975955</td>\n",
              "      <td>0.984204</td>\n",
              "      <td>0.720300</td>\n",
              "      <td>1.302551</td>\n",
              "      <td>1.473136</td>\n",
              "      <td>1.106737</td>\n",
              "    </tr>\n",
              "    <tr>\n",
              "      <th>31079</th>\n",
              "      <td>0.474424</td>\n",
              "      <td>0.668689</td>\n",
              "      <td>0.917154</td>\n",
              "      <td>0.621782</td>\n",
              "      <td>0.526013</td>\n",
              "      <td>0.790357</td>\n",
              "      <td>0.586555</td>\n",
              "      <td>0.745475</td>\n",
              "      <td>0.359765</td>\n",
              "      <td>0.373755</td>\n",
              "      <td>0.786078</td>\n",
              "      <td>0.565928</td>\n",
              "      <td>1.031918</td>\n",
              "      <td>0.224221</td>\n",
              "      <td>0.855359</td>\n",
              "      <td>0.504502</td>\n",
              "      <td>1.129228</td>\n",
              "      <td>0.543831</td>\n",
              "    </tr>\n",
              "  </tbody>\n",
              "</table>\n",
              "<p>31080 rows × 18 columns</p>\n",
              "</div>"
            ],
            "text/plain": [
              "            Fp1        F7        T3  ...        C4        P4        O2\n",
              "0      0.453575  0.564042  0.556784  ...  0.750381  0.513921  0.388215\n",
              "1      0.468788  0.464526  0.556084  ...  1.365283  0.246469  0.480016\n",
              "2      0.761824  0.713902  0.551635  ...  1.070519  0.763317  0.728678\n",
              "3      0.320513  1.041483  0.562281  ...  0.869266  0.306688  0.469720\n",
              "4      0.550035  0.642381  1.062290  ...  0.830093  0.627568  0.961302\n",
              "...         ...       ...       ...  ...       ...       ...       ...\n",
              "31075  0.852304  0.765143  0.681175  ...  0.199074  0.866088  0.537417\n",
              "31076  0.788118  0.677485  0.627501  ...  1.003391  0.642248  0.504024\n",
              "31077  0.890973  0.538311  0.547298  ...  0.865412  0.660497  0.955419\n",
              "31078  1.279263  1.172636  0.697928  ...  1.302551  1.473136  1.106737\n",
              "31079  0.474424  0.668689  0.917154  ...  0.504502  1.129228  0.543831\n",
              "\n",
              "[31080 rows x 18 columns]"
            ]
          },
          "metadata": {
            "tags": []
          },
          "execution_count": 66
        }
      ]
    },
    {
      "cell_type": "code",
      "metadata": {
        "colab": {
          "base_uri": "https://localhost:8080/"
        },
        "id": "rnPyb0zqnWUN",
        "outputId": "b23be6c0-cbf4-4ffe-8504-22a101c8440e"
      },
      "source": [
        "print(\"data.shape = {0}\".format(data.shape))"
      ],
      "execution_count": 67,
      "outputs": [
        {
          "output_type": "stream",
          "text": [
            "data.shape = (31080, 18)\n"
          ],
          "name": "stdout"
        }
      ]
    },
    {
      "cell_type": "code",
      "metadata": {
        "id": "iFw9Y_oamT1O"
      },
      "source": [
        "target = brainre.iloc[0:,0:1]"
      ],
      "execution_count": 68,
      "outputs": []
    },
    {
      "cell_type": "code",
      "metadata": {
        "colab": {
          "base_uri": "https://localhost:8080/",
          "height": 424
        },
        "id": "yXwZpawJnY8t",
        "outputId": "810e0b87-6b9d-45b2-8361-12c5a2aa82e2"
      },
      "source": [
        "print(\"target.shape = {0}\".format(target.shape))\r\n",
        "target = target.replace(\"NonCZP\",0)\r\n",
        "target = target.replace(\"CZP\",1)\r\n",
        "target"
      ],
      "execution_count": 69,
      "outputs": [
        {
          "output_type": "stream",
          "text": [
            "target.shape = (31080, 1)\n"
          ],
          "name": "stdout"
        },
        {
          "output_type": "execute_result",
          "data": {
            "text/html": [
              "<div>\n",
              "<style scoped>\n",
              "    .dataframe tbody tr th:only-of-type {\n",
              "        vertical-align: middle;\n",
              "    }\n",
              "\n",
              "    .dataframe tbody tr th {\n",
              "        vertical-align: top;\n",
              "    }\n",
              "\n",
              "    .dataframe thead th {\n",
              "        text-align: right;\n",
              "    }\n",
              "</style>\n",
              "<table border=\"1\" class=\"dataframe\">\n",
              "  <thead>\n",
              "    <tr style=\"text-align: right;\">\n",
              "      <th></th>\n",
              "      <th>Group</th>\n",
              "    </tr>\n",
              "  </thead>\n",
              "  <tbody>\n",
              "    <tr>\n",
              "      <th>0</th>\n",
              "      <td>0</td>\n",
              "    </tr>\n",
              "    <tr>\n",
              "      <th>1</th>\n",
              "      <td>0</td>\n",
              "    </tr>\n",
              "    <tr>\n",
              "      <th>2</th>\n",
              "      <td>0</td>\n",
              "    </tr>\n",
              "    <tr>\n",
              "      <th>3</th>\n",
              "      <td>0</td>\n",
              "    </tr>\n",
              "    <tr>\n",
              "      <th>4</th>\n",
              "      <td>0</td>\n",
              "    </tr>\n",
              "    <tr>\n",
              "      <th>...</th>\n",
              "      <td>...</td>\n",
              "    </tr>\n",
              "    <tr>\n",
              "      <th>31075</th>\n",
              "      <td>1</td>\n",
              "    </tr>\n",
              "    <tr>\n",
              "      <th>31076</th>\n",
              "      <td>1</td>\n",
              "    </tr>\n",
              "    <tr>\n",
              "      <th>31077</th>\n",
              "      <td>1</td>\n",
              "    </tr>\n",
              "    <tr>\n",
              "      <th>31078</th>\n",
              "      <td>1</td>\n",
              "    </tr>\n",
              "    <tr>\n",
              "      <th>31079</th>\n",
              "      <td>1</td>\n",
              "    </tr>\n",
              "  </tbody>\n",
              "</table>\n",
              "<p>31080 rows × 1 columns</p>\n",
              "</div>"
            ],
            "text/plain": [
              "       Group\n",
              "0          0\n",
              "1          0\n",
              "2          0\n",
              "3          0\n",
              "4          0\n",
              "...      ...\n",
              "31075      1\n",
              "31076      1\n",
              "31077      1\n",
              "31078      1\n",
              "31079      1\n",
              "\n",
              "[31080 rows x 1 columns]"
            ]
          },
          "metadata": {
            "tags": []
          },
          "execution_count": 69
        }
      ]
    },
    {
      "cell_type": "code",
      "metadata": {
        "id": "H1EHyy11RF9w"
      },
      "source": [
        "x_train,x_test,y_train, y_test = train_test_split(data, target, random_state=20161508)"
      ],
      "execution_count": 70,
      "outputs": []
    },
    {
      "cell_type": "code",
      "metadata": {
        "colab": {
          "base_uri": "https://localhost:8080/"
        },
        "id": "NermYfzkmv_X",
        "outputId": "3924c5a0-33ab-481a-c5ac-8692f07d4e55"
      },
      "source": [
        "print(\"x_train.shape = {0}\".format(x_train.shape))\r\n",
        "print(\"x_test.shape = {0}\".format(x_test.shape))\r\n",
        "print(\"y_train.shape = {0}\".format(y_train.shape))\r\n",
        "print(\"y_test.shape = {0}\".format(y_test.shape))"
      ],
      "execution_count": 71,
      "outputs": [
        {
          "output_type": "stream",
          "text": [
            "x_train.shape = (23310, 18)\n",
            "x_test.shape = (7770, 18)\n",
            "y_train.shape = (23310, 1)\n",
            "y_test.shape = (7770, 1)\n"
          ],
          "name": "stdout"
        }
      ]
    },
    {
      "cell_type": "markdown",
      "metadata": {
        "id": "2M4plHUqwjQu"
      },
      "source": [
        "# **KNeighborsClassifier**"
      ]
    },
    {
      "cell_type": "code",
      "metadata": {
        "colab": {
          "base_uri": "https://localhost:8080/"
        },
        "id": "sns4UCBQkpZm",
        "outputId": "7478231e-0879-4417-e1c6-8eee03adb9d5"
      },
      "source": [
        "knn = KNeighborsClassifier(n_neighbors=5)\r\n",
        "knn.fit(x_train, y_train)"
      ],
      "execution_count": 72,
      "outputs": [
        {
          "output_type": "stream",
          "text": [
            "/usr/local/lib/python3.6/dist-packages/ipykernel_launcher.py:2: DataConversionWarning: A column-vector y was passed when a 1d array was expected. Please change the shape of y to (n_samples, ), for example using ravel().\n",
            "  \n"
          ],
          "name": "stderr"
        },
        {
          "output_type": "execute_result",
          "data": {
            "text/plain": [
              "KNeighborsClassifier(algorithm='auto', leaf_size=30, metric='minkowski',\n",
              "                     metric_params=None, n_jobs=None, n_neighbors=5, p=2,\n",
              "                     weights='uniform')"
            ]
          },
          "metadata": {
            "tags": []
          },
          "execution_count": 72
        }
      ]
    },
    {
      "cell_type": "code",
      "metadata": {
        "colab": {
          "base_uri": "https://localhost:8080/"
        },
        "id": "zJDMLfgwsOW_",
        "outputId": "166d3fe5-6c3c-46fd-d1ea-3d9c3c2235eb"
      },
      "source": [
        "result = knn.predict(x_test)\r\n",
        "y_test = np.array(y_test)\r\n",
        "\r\n",
        "answer = np.array(y_test).flatten().tolist()\r\n",
        "y_test = np.array(answer)\r\n",
        "print(y_test)\r\n",
        "print(result)"
      ],
      "execution_count": 73,
      "outputs": [
        {
          "output_type": "stream",
          "text": [
            "[0 0 1 ... 1 0 1]\n",
            "[0 0 0 ... 0 0 1]\n"
          ],
          "name": "stdout"
        }
      ]
    },
    {
      "cell_type": "markdown",
      "metadata": {
        "id": "-ip8afd0vpOY"
      },
      "source": [
        ""
      ]
    },
    {
      "cell_type": "code",
      "metadata": {
        "colab": {
          "base_uri": "https://localhost:8080/"
        },
        "id": "6ZON3TIOzF_0",
        "outputId": "40b75ccb-9af3-4e5a-9247-d19ee51aa7b3"
      },
      "source": [
        "print(\"KNN정확도 : \",np.mean(y_test == result))"
      ],
      "execution_count": 74,
      "outputs": [
        {
          "output_type": "stream",
          "text": [
            "KNN정확도 :  0.5517374517374517\n"
          ],
          "name": "stdout"
        }
      ]
    },
    {
      "cell_type": "markdown",
      "metadata": {
        "id": "Oz1f4l0zvtWZ"
      },
      "source": [
        "# **SGDClassfilter**"
      ]
    },
    {
      "cell_type": "code",
      "metadata": {
        "id": "Z4mg4fwjK7D5"
      },
      "source": [
        "from sklearn.linear_model import SGDClassifier\r\n",
        "\r\n",
        "sgd = SGDClassifier(loss='log', max_iter=100, tol=1e-3, random_state=20161508)"
      ],
      "execution_count": 75,
      "outputs": []
    },
    {
      "cell_type": "code",
      "metadata": {
        "colab": {
          "base_uri": "https://localhost:8080/"
        },
        "id": "7ySF_M-YuOsR",
        "outputId": "3b3e0097-200c-48e8-fcbd-5be6c47178d8"
      },
      "source": [
        "sgd.fit(x_train, y_train) \r\n",
        "abc = sgd.score(x_test, y_test)\r\n",
        "print(\"SGD 오차률 : \", abc)"
      ],
      "execution_count": 76,
      "outputs": [
        {
          "output_type": "stream",
          "text": [
            "SGD 오차률 :  0.5032175032175032\n"
          ],
          "name": "stdout"
        },
        {
          "output_type": "stream",
          "text": [
            "/usr/local/lib/python3.6/dist-packages/sklearn/utils/validation.py:760: DataConversionWarning: A column-vector y was passed when a 1d array was expected. Please change the shape of y to (n_samples, ), for example using ravel().\n",
            "  y = column_or_1d(y, warn=True)\n"
          ],
          "name": "stderr"
        }
      ]
    },
    {
      "cell_type": "markdown",
      "metadata": {
        "id": "cHMcYR-_wwuN"
      },
      "source": [
        "# **LogisticRegression**"
      ]
    },
    {
      "cell_type": "code",
      "metadata": {
        "id": "BkuIa8sGuTLX"
      },
      "source": [
        "from sklearn.linear_model import LogisticRegression"
      ],
      "execution_count": 77,
      "outputs": []
    },
    {
      "cell_type": "code",
      "metadata": {
        "colab": {
          "base_uri": "https://localhost:8080/"
        },
        "id": "9xGd-hHhwVoc",
        "outputId": "47d3a806-3bfc-4739-c3d3-4743e227d4f2"
      },
      "source": [
        "model = LogisticRegression()\r\n",
        "model.fit(x_train, y_train)"
      ],
      "execution_count": 78,
      "outputs": [
        {
          "output_type": "stream",
          "text": [
            "/usr/local/lib/python3.6/dist-packages/sklearn/utils/validation.py:760: DataConversionWarning: A column-vector y was passed when a 1d array was expected. Please change the shape of y to (n_samples, ), for example using ravel().\n",
            "  y = column_or_1d(y, warn=True)\n"
          ],
          "name": "stderr"
        },
        {
          "output_type": "execute_result",
          "data": {
            "text/plain": [
              "LogisticRegression(C=1.0, class_weight=None, dual=False, fit_intercept=True,\n",
              "                   intercept_scaling=1, l1_ratio=None, max_iter=100,\n",
              "                   multi_class='auto', n_jobs=None, penalty='l2',\n",
              "                   random_state=None, solver='lbfgs', tol=0.0001, verbose=0,\n",
              "                   warm_start=False)"
            ]
          },
          "metadata": {
            "tags": []
          },
          "execution_count": 78
        }
      ]
    },
    {
      "cell_type": "code",
      "metadata": {
        "colab": {
          "base_uri": "https://localhost:8080/"
        },
        "id": "6Fy8ys-7whiy",
        "outputId": "fd010025-2137-4b8a-a6a6-0ed3a66bdbf2"
      },
      "source": [
        "print(\"LogisticRegression 정확도 :\",model.score(x_test,y_test))"
      ],
      "execution_count": 79,
      "outputs": [
        {
          "output_type": "stream",
          "text": [
            "LogisticRegression 정확도 : 0.584041184041184\n"
          ],
          "name": "stdout"
        }
      ]
    },
    {
      "cell_type": "code",
      "metadata": {
        "colab": {
          "base_uri": "https://localhost:8080/"
        },
        "id": "YwGcpV_DwpSy",
        "outputId": "66039ea8-8f10-4e9b-b6dd-821cd4a4e79f"
      },
      "source": [
        "\r\n",
        "from sklearn.model_selection import cross_val_score\r\n",
        "logreg = LogisticRegression()\r\n",
        "SGD = SGDClassifier()\r\n",
        "KNE = KNeighborsClassifier()\r\n",
        "scores = cross_val_score(logreg, x_test, y_test, cv=5)\r\n",
        "scores1 = cross_val_score(SGD, x_test, y_test, cv=5)\r\n",
        "scores2 = cross_val_score(KNE, x_test, y_test, cv=5)\r\n",
        "\r\n",
        "print(\"Logistic 교차 검증 점수: {}\".format(scores))\r\n",
        "print(\"평균값:  {:.2f}\".format(scores.mean()))\r\n",
        "\r\n",
        "print(\"SGD 교차 검증 점수: {}\".format(scores1))\r\n",
        "print(\"평균값:  {:.2f}\".format(scores1.mean()))\r\n",
        "\r\n",
        "print(\"KNE 교차 검증 점수: {}\".format(scores2))\r\n",
        "print(\"평균값:  {:.2f}\".format(scores2.mean()))"
      ],
      "execution_count": 80,
      "outputs": [
        {
          "output_type": "stream",
          "text": [
            "Logistic 교차 검증 점수: [0.58301158 0.57271557 0.58558559 0.58751609 0.58944659]\n",
            "평균값:  0.58\n",
            "SGD 교차 검증 점수: [0.58301158 0.58687259 0.58880309 0.58687259 0.56692407]\n",
            "평균값:  0.58\n",
            "KNE 교차 검증 점수: [0.57400257 0.55855856 0.53410553 0.51673102 0.55341055]\n",
            "평균값:  0.55\n"
          ],
          "name": "stdout"
        }
      ]
    },
    {
      "cell_type": "code",
      "metadata": {
        "id": "d63CopsCyl9t"
      },
      "source": [
        ""
      ],
      "execution_count": null,
      "outputs": []
    }
  ]
}